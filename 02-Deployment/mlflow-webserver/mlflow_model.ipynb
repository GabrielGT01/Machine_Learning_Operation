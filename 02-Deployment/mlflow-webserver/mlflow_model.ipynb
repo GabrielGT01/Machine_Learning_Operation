{
 "cells": [
  {
   "cell_type": "markdown",
   "id": "b17ce73f-67da-40cb-8488-ae58f9d7aa19",
   "metadata": {},
   "source": [
    "### MLflow model or artifact can be downloaded by\n",
    "- client = MlflowClient(tracking_uri=MLFLOW_TRACKING_URI)\n",
    "- mlflow.artifacts.download_artifacts()"
   ]
  },
  {
   "cell_type": "code",
   "execution_count": 1,
   "id": "ae70066a-5234-4c4b-acb4-c37c2f1bd076",
   "metadata": {},
   "outputs": [],
   "source": [
    "import joblib\n",
    "import pandas as pd\n",
    "from mlflow.tracking import MlflowClient\n",
    "\n",
    "\n",
    "import mlflow\n",
    "mlflow.set_tracking_uri(\"http://127.0.0.1:5000\")\n"
   ]
  },
  {
   "cell_type": "code",
   "execution_count": 2,
   "id": "5e23eea6-01f8-4736-9b88-7da383ce268a",
   "metadata": {},
   "outputs": [],
   "source": [
    "MLFLOW_TRACKING_URI = 'http://127.0.0.1:5000'\n",
    "RUN_ID = 'ab7ac267f5e945cba9566b7213e58524'\n",
    "artifact_path = \"preprocessor/preprocessing.pkl\"\n",
    "\n",
    "client = MlflowClient(tracking_uri=MLFLOW_TRACKING_URI)"
   ]
  },
  {
   "cell_type": "code",
   "execution_count": 3,
   "id": "5640b70d-4a2b-413c-b3ae-0ebad68bd02e",
   "metadata": {},
   "outputs": [
    {
     "data": {
      "application/vnd.jupyter.widget-view+json": {
       "model_id": "15d01e9eb87846128c3939987e27eb99",
       "version_major": 2,
       "version_minor": 0
      },
      "text/plain": [
       "Downloading artifacts:   0%|          | 0/1 [00:00<?, ?it/s]"
      ]
     },
     "metadata": {},
     "output_type": "display_data"
    },
    {
     "name": "stdout",
     "output_type": "stream",
     "text": [
      "File downloaded to: /var/folders/pk/nk0t185511z8g6hmxr_bhkfw0000gn/T/tmphme9c66_/preprocessor/preprocessing.pkl\n"
     ]
    }
   ],
   "source": [
    "# This will download the artifact locally and return the full local file path\n",
    "preprocessor = client.download_artifacts(run_id=RUN_ID, path=artifact_path)\n",
    "\n",
    "print(f\"File downloaded to: {preprocessor}\")\n"
   ]
  },
  {
   "cell_type": "code",
   "execution_count": 4,
   "id": "6f13841e-8678-4a25-b61a-ad9e7f1da4eb",
   "metadata": {},
   "outputs": [
    {
     "data": {
      "application/vnd.jupyter.widget-view+json": {
       "model_id": "6a421d40065f4c68bb5929b479735265",
       "version_major": 2,
       "version_minor": 0
      },
      "text/plain": [
       "Downloading artifacts:   0%|          | 0/1 [00:00<?, ?it/s]"
      ]
     },
     "metadata": {},
     "output_type": "display_data"
    },
    {
     "name": "stdout",
     "output_type": "stream",
     "text": [
      "File downloaded to: /var/folders/pk/nk0t185511z8g6hmxr_bhkfw0000gn/T/tmphyo13plb/preprocessor/preprocessing.pkl\n"
     ]
    },
    {
     "data": {
      "text/plain": [
       "array([[ 1.18426239, 14.71795397, 14.71795397]])"
      ]
     },
     "execution_count": 4,
     "metadata": {},
     "output_type": "execute_result"
    }
   ],
   "source": [
    "from mlflow.tracking import MlflowClient\n",
    "import joblib\n",
    "import pandas as pd\n",
    "\n",
    "# Download artifact path\n",
    "client = MlflowClient(tracking_uri=MLFLOW_TRACKING_URI)\n",
    "RUN_ID = \"ab7ac267f5e945cba9566b7213e58524\"\n",
    "artifact_path = \"preprocessor/preprocessing.pkl\"\n",
    "\n",
    "# Step 1: Download the file (returns local path as string)\n",
    "preprocessor_path = client.download_artifacts(run_id=RUN_ID, path=artifact_path)\n",
    "print(f\"File downloaded to: {preprocessor_path}\")\n",
    "\n",
    "# Step 2: Load the actual preprocessor object\n",
    "preprocessor = joblib.load(preprocessor_path)\n",
    "\n",
    "# Step 3: Transform new input data\n",
    "df = pd.DataFrame([{\n",
    "    \"PULocationID\": 75,\n",
    "    \"DOLocationID\": 235,\n",
    "    \"trip_distance\": 5.93\n",
    "}])\n",
    "\n",
    "X_processed = preprocessor.transform(df)\n",
    "X_processed"
   ]
  },
  {
   "cell_type": "code",
   "execution_count": 5,
   "id": "d8a11ba5-68ff-438b-b081-2f1d80b82fe8",
   "metadata": {},
   "outputs": [
    {
     "data": {
      "application/vnd.jupyter.widget-view+json": {
       "model_id": "52bde7e2e32c471a8f4e6e045a001fc5",
       "version_major": 2,
       "version_minor": 0
      },
      "text/plain": [
       "Downloading artifacts:   0%|          | 0/7 [00:00<?, ?it/s]"
      ]
     },
     "metadata": {},
     "output_type": "display_data"
    },
    {
     "name": "stdout",
     "output_type": "stream",
     "text": [
      "Downloaded to: /var/folders/pk/nk0t185511z8g6hmxr_bhkfw0000gn/T/tmpmlafu0cr/nyc-duration-model\n",
      "Files inside the folder: ['python_env.yaml', 'requirements.txt', 'MLmodel', 'model.xgb', 'serving_input_example.json', 'input_example.json', 'conda.yaml']\n"
     ]
    }
   ],
   "source": [
    "import mlflow\n",
    "import os\n",
    "from xgboost import XGBRegressor\n",
    "\n",
    "# Step 1: Download the folder\n",
    "model_dir = mlflow.artifacts.download_artifacts(\n",
    "    artifact_uri=\"mlflow-artifacts:/1/ab7ac267f5e945cba9566b7213e58524/artifacts/nyc-duration-model\"\n",
    ")\n",
    "\n",
    "print(f\"Downloaded to: {model_dir}\")\n",
    "print(\"Files inside the folder:\", os.listdir(model_dir))\n"
   ]
  },
  {
   "cell_type": "code",
   "execution_count": 6,
   "id": "a01a33c0-6903-4c6c-81be-a51c202119d3",
   "metadata": {},
   "outputs": [
    {
     "name": "stdout",
     "output_type": "stream",
     "text": [
      "19.054037\n"
     ]
    }
   ],
   "source": [
    "\n",
    "# Step 2: Load the XGBoost model from model.xgb\n",
    "model_path = os.path.join(model_dir, \"model.xgb\")\n",
    "\n",
    "model = XGBRegressor()\n",
    "model.load_model(model_path)\n",
    "\n",
    "# Step 3: Use the model for prediction\n",
    "feature = model.predict(X_processed)\n",
    "print(feature[0])\n"
   ]
  },
  {
   "cell_type": "code",
   "execution_count": null,
   "id": "c58aae33-827a-48f7-bf5c-aa54105ac559",
   "metadata": {},
   "outputs": [],
   "source": []
  },
  {
   "cell_type": "code",
   "execution_count": 10,
   "id": "1bb1f0b1-f1ef-4d39-8d25-d782a0dedd6f",
   "metadata": {},
   "outputs": [
    {
     "name": "stdout",
     "output_type": "stream",
     "text": [
      "Overwriting predict.py\n"
     ]
    }
   ],
   "source": [
    "%%writefile predict.py\n",
    "\n",
    "import os\n",
    "import joblib\n",
    "import pandas as pd\n",
    "from xgboost import XGBRegressor\n",
    "import mlflow\n",
    "\n",
    "# === Configuration ===\n",
    "PREPROCESSOR_URI = \"mlflow-artifacts:/1/ab7ac267f5e945cba9566b7213e58524/artifacts/preprocessor/preprocessing.pkl\"\n",
    "MODEL_URI = \"mlflow-artifacts:/1/ab7ac267f5e945cba9566b7213e58524/artifacts/nyc-duration-model/model.xgb\"\n",
    "\n",
    "# === Load Preprocessor ===\n",
    "def load_preprocessor():\n",
    "    try:\n",
    "        local_path = mlflow.artifacts.download_artifacts(artifact_uri=PREPROCESSOR_URI)\n",
    "        preprocessor = joblib.load(local_path)\n",
    "        print(\"[INFO] Preprocessor loaded successfully.\")\n",
    "        return preprocessor\n",
    "    except Exception as e:\n",
    "        print(f\"[ERROR] Failed to load preprocessor: {e}\")\n",
    "        raise\n",
    "\n",
    "# === Load XGBoost Model ===\n",
    "def load_model():\n",
    "    try:\n",
    "        model_path = mlflow.artifacts.download_artifacts(artifact_uri=MODEL_URI)\n",
    "        model = XGBRegressor()\n",
    "        model.load_model(model_path)\n",
    "        print(\"[INFO] Model loaded successfully.\")\n",
    "        return model\n",
    "    except Exception as e:\n",
    "        print(f\"[ERROR] Failed to load model: {e}\")\n",
    "        raise\n",
    "\n",
    "# === Make Prediction ===\n",
    "def predict_duration(preprocessor, model, ride_df):\n",
    "    try:\n",
    "        X_processed = preprocessor.transform(ride_df)\n",
    "        prediction = model.predict(X_processed)\n",
    "        return prediction[0]\n",
    "    except Exception as e:\n",
    "        print(f\"[ERROR] Prediction failed: {e}\")\n",
    "        raise\n",
    "\n",
    "# === Predict from Dictionary ===\n",
    "def predict_from_dict(ride: dict):\n",
    "    try:\n",
    "        preprocessor = load_preprocessor()\n",
    "        model = load_model()\n",
    "        df = pd.DataFrame([ride])\n",
    "        return predict_duration(preprocessor, model, df)\n",
    "    except Exception as e:\n",
    "        print(f\"[ERROR] Failed to predict from dict: {e}\")\n",
    "        return None\n",
    "\n",
    "\n",
    "if __name__ == \"__main__\":\n",
    "    \n",
    "    try:\n",
    "        preprocessor = load_preprocessor()\n",
    "        model = load_model()\n",
    "        predicted_duration = predict_duration(preprocessor, model, pd.DataFrame([sample_ride]))\n",
    "        print(f\"[RESULT] Predicted trip duration: {predicted_duration:.2f} minutes\")\n",
    "    except Exception:\n",
    "        print(\"[FAILED] Prediction pipeline could not complete.\")\n"
   ]
  },
  {
   "cell_type": "code",
   "execution_count": 11,
   "id": "c80e12f4-7d5f-4e3b-bb14-49d2d93de485",
   "metadata": {},
   "outputs": [
    {
     "name": "stdout",
     "output_type": "stream",
     "text": [
      "Overwriting test.py\n"
     ]
    }
   ],
   "source": [
    "%%writefile test.py\n",
    "\n",
    "\n",
    "import predict\n",
    "\n",
    "ride = {\n",
    "    \"PULocationID\": 75,\n",
    "    \"DOLocationID\": 40,\n",
    "    \"trip_distance\": 5\n",
    "}\n",
    "\n",
    "time = predict.predict_from_dict(ride)\n",
    "\n",
    "if time is not None:\n",
    "    print(f\"Predicted duration: {time:.2f} minutes\")\n",
    "else:\n",
    "    print(\"Prediction failed.\")\n",
    "\n"
   ]
  },
  {
   "cell_type": "code",
   "execution_count": 12,
   "id": "0b09a2fe-3796-4949-a37c-97e39fef0a85",
   "metadata": {},
   "outputs": [
    {
     "name": "stdout",
     "output_type": "stream",
     "text": [
      "Downloading artifacts: 100%|█████████████████████| 1/1 [00:00<00:00, 572.76it/s]\n",
      "[INFO] Preprocessor loaded successfully.\n",
      "Downloading artifacts: 100%|█████████████████████| 1/1 [00:00<00:00, 109.14it/s]\n",
      "[INFO] Model loaded successfully.\n",
      "Predicted duration: 18.37 minutes\n"
     ]
    }
   ],
   "source": [
    "!python test.py"
   ]
  },
  {
   "cell_type": "code",
   "execution_count": 15,
   "id": "c00583c8-efae-4b50-944b-7d0c6c964141",
   "metadata": {},
   "outputs": [
    {
     "data": {
      "application/vnd.jupyter.widget-view+json": {
       "model_id": "baff66303e2f487b8eb9ac949437f980",
       "version_major": 2,
       "version_minor": 0
      },
      "text/plain": [
       "Downloading artifacts:   0%|          | 0/7 [00:00<?, ?it/s]"
      ]
     },
     "metadata": {},
     "output_type": "display_data"
    },
    {
     "name": "stdout",
     "output_type": "stream",
     "text": [
      "Predicted duration: 40.15 minutes\n"
     ]
    }
   ],
   "source": [
    "### LOAD MODEL directly from   mlflow\n",
    "\n",
    "\n",
    "# Define input\n",
    "ride = {\n",
    "    \"PULocationID\": 75,\n",
    "    \"DOLocationID\": 40,\n",
    "    \"trip_distance\": 5\n",
    "}\n",
    "\n",
    "# Make sure all features are float\n",
    "df = pd.DataFrame([ride]).astype(\"float64\")\n",
    "\n",
    "# Load the model\n",
    "logged_model = 'runs:/ab7ac267f5e945cba9566b7213e58524/nyc-duration-model'\n",
    "loaded_model = mlflow.pyfunc.load_model(logged_model)\n",
    "\n",
    "# Predict\n",
    "prediction = loaded_model.predict(df)\n",
    "print(f\"Predicted duration: {prediction[0]:.2f} minutes\")\n",
    "\n"
   ]
  },
  {
   "cell_type": "code",
   "execution_count": null,
   "id": "ffe04e80-1114-4e5b-b55c-6cf92eae3e7d",
   "metadata": {},
   "outputs": [],
   "source": [
    "\n",
    "\n"
   ]
  },
  {
   "cell_type": "code",
   "execution_count": null,
   "id": "28178c9a-9892-4339-b3d2-c4a2c2b1f725",
   "metadata": {},
   "outputs": [],
   "source": []
  }
 ],
 "metadata": {
  "kernelspec": {
   "display_name": "Python 3 (ipykernel)",
   "language": "python",
   "name": "python3"
  },
  "language_info": {
   "codemirror_mode": {
    "name": "ipython",
    "version": 3
   },
   "file_extension": ".py",
   "mimetype": "text/x-python",
   "name": "python",
   "nbconvert_exporter": "python",
   "pygments_lexer": "ipython3",
   "version": "3.12.7"
  }
 },
 "nbformat": 4,
 "nbformat_minor": 5
}
