{
 "cells": [
  {
   "cell_type": "markdown",
   "id": "75769608-a869-4278-8cea-1a6dda8d2aa5",
   "metadata": {},
   "source": [
    "## MODEL DEPLOYMENT WITH FAST API"
   ]
  },
  {
   "cell_type": "markdown",
   "id": "43eff60a-0b7e-45f3-ab16-119b99951e1a",
   "metadata": {},
   "source": [
    "# 🎯 Aim of the Notebook: Deploying a Machine Learning Model as a Web Service with FastAPI and Docker\n",
    "\n",
    "This notebook walks through the full process of deploying a trained machine learning model as a RESTful web service using **FastAPI**, **Pipenv**, and **Docker**. The service allows users to send JSON input and receive predictions from the model via HTTP. It is ideal for production or local testing environments and exposes the model on port `9696`.\n",
    "\n",
    "---\n",
    "\n",
    "## ✅ Steps Overview\n",
    "\n",
    "\n",
    "1. **Write a Python script to handle model predictions**\n",
    "2. **Embed the script into a FastAPI application**\n",
    "3. **Package the application using Docker**\n",
    "4. **Expose the service via Uvicorn**\n",
    "5. **Run the container and test the endpoint**\n",
    "\n",
    "---\n",
    "\n",
    "## 📦 Create the Virtual Environment inside docker\n",
    "\n",
    "```bash\n",
    "- docker build -t ride-duration-prediction-service:v1 .\n",
    "- docker run -it --rm -p 9696:9696  ride-duration-prediction-service:v1"
   ]
  },
  {
   "cell_type": "code",
   "execution_count": 1,
   "id": "e90390a8-7dca-4951-8084-29dcf153e277",
   "metadata": {},
   "outputs": [],
   "source": [
    "import joblib\n",
    "import pandas as pd\n",
    "\n"
   ]
  },
  {
   "cell_type": "code",
   "execution_count": 2,
   "id": "2ddcd77a-680b-4f16-b241-def271f4c11c",
   "metadata": {},
   "outputs": [],
   "source": [
    "preprocessor= joblib.load(\"preprocessing.pkl\")"
   ]
  },
  {
   "cell_type": "code",
   "execution_count": 3,
   "id": "673410dc-1e1e-4738-baab-54fedeae53f4",
   "metadata": {},
   "outputs": [],
   "source": [
    "import xgboost as xgb\n",
    "from xgboost import XGBRegressor\n",
    "\n",
    "# For regression models\n",
    "model = XGBRegressor()\n",
    "model.load_model('my_model.ubj')"
   ]
  },
  {
   "cell_type": "code",
   "execution_count": 4,
   "id": "afdccb6a-8542-470f-bff8-32c0f07b9573",
   "metadata": {},
   "outputs": [],
   "source": [
    "# Now transform a new sample\n",
    "df = pd.DataFrame([{\n",
    "    \"PULocationID\": 75,\n",
    "    \"DOLocationID\": 235,\n",
    "    \"trip_distance\": 5.93\n",
    "}])\n",
    "\n",
    "# Transform the new data\n",
    "X_processed = preprocessor.transform(df)"
   ]
  },
  {
   "cell_type": "code",
   "execution_count": 5,
   "id": "23f19004-713a-41ab-8a57-c7b9117ea26e",
   "metadata": {},
   "outputs": [
    {
     "data": {
      "text/plain": [
       "array([[ 1.18426239, 14.71795397, 14.71795397]])"
      ]
     },
     "execution_count": 5,
     "metadata": {},
     "output_type": "execute_result"
    }
   ],
   "source": [
    "X_processed"
   ]
  },
  {
   "cell_type": "code",
   "execution_count": 6,
   "id": "1ec51cf1-0222-40d0-953f-3d2426cea8c8",
   "metadata": {},
   "outputs": [],
   "source": [
    "feature = model.predict(X_processed)"
   ]
  },
  {
   "cell_type": "code",
   "execution_count": 8,
   "id": "d9d91e11-46b0-4ef5-893c-d30392485255",
   "metadata": {},
   "outputs": [
    {
     "data": {
      "text/plain": [
       "19.054037"
      ]
     },
     "execution_count": 8,
     "metadata": {},
     "output_type": "execute_result"
    }
   ],
   "source": [
    "feature[0]"
   ]
  },
  {
   "cell_type": "code",
   "execution_count": null,
   "id": "e5ed275d-99ab-4db9-a15d-0216f7da9632",
   "metadata": {},
   "outputs": [],
   "source": []
  },
  {
   "cell_type": "code",
   "execution_count": 19,
   "id": "285e40b8-6772-4126-af38-f7af5f8bd619",
   "metadata": {},
   "outputs": [
    {
     "name": "stdout",
     "output_type": "stream",
     "text": [
      "Overwriting predict.py\n"
     ]
    }
   ],
   "source": [
    "%%writefile predict.py\n",
    "\n",
    "import joblib\n",
    "import pandas as pd\n",
    "from xgboost import XGBRegressor\n",
    "\n",
    "def load_preprocessor(path: str):\n",
    "    try:\n",
    "        preprocessor = joblib.load(path)\n",
    "        print(\"[INFO] Preprocessor loaded successfully.\")\n",
    "        return preprocessor\n",
    "    except FileNotFoundError:\n",
    "        print(f\"[ERROR] Preprocessor file not found: {path}\")\n",
    "        raise\n",
    "    except Exception as e:\n",
    "        print(f\"[ERROR] Failed to load preprocessor: {e}\")\n",
    "        raise\n",
    "\n",
    "def load_model(path: str):\n",
    "    try:\n",
    "        model = XGBRegressor()\n",
    "        model.load_model(path)\n",
    "        print(\"[INFO] Model loaded successfully.\")\n",
    "        return model\n",
    "    except FileNotFoundError:\n",
    "        print(f\"[ERROR] Model file not found: {path}\")\n",
    "        raise\n",
    "    except Exception as e:\n",
    "        print(f\"[ERROR] Failed to load model: {e}\")\n",
    "        raise\n",
    "\n",
    "def predict_duration(preprocessor, model, ride_df):\n",
    "    try:\n",
    "        X_processed = preprocessor.transform(ride_df)\n",
    "        prediction = model.predict(X_processed)\n",
    "        return prediction[0]\n",
    "    except Exception as e:\n",
    "        print(f\"[ERROR] Prediction failed: {e}\")\n",
    "        raise\n",
    "\n",
    "def predict_from_dict(ride: dict):\n",
    "    \"\"\"function to predict from a simple ride dictionary.\"\"\"\n",
    "    try:\n",
    "        preprocessor = load_preprocessor(\"preprocessing.pkl\")\n",
    "        model = load_model(\"my_model.ubj\")\n",
    "\n",
    "        df = pd.DataFrame([ride])\n",
    "        return predict_duration(preprocessor, model, df)\n",
    "    except Exception as e:\n",
    "        print(f\"[ERROR] Failed to predict from dict: {e}\")\n",
    "        return None\n",
    "\n",
    "if __name__ == \"__main__\":\n",
    "    try:\n",
    "        preprocessor = load_preprocessor(\"preprocessing.pkl\")\n",
    "        model = load_model(\"my_model.ubj\")\n",
    "        predicted_duration = predict_duration(preprocessor, model, ride)\n",
    "        print(f\"[RESULT] Predicted trip duration: {predicted_duration:.2f} minutes\")\n",
    "    except Exception:\n",
    "        print(\"[FAILED] Prediction pipeline could not complete.\")\n"
   ]
  },
  {
   "cell_type": "code",
   "execution_count": 26,
   "id": "9b7b50e1-cf02-4036-9a56-1ebd32c2fa43",
   "metadata": {},
   "outputs": [
    {
     "name": "stdout",
     "output_type": "stream",
     "text": [
      "Overwriting test.py\n"
     ]
    }
   ],
   "source": [
    "%%writefile test.py\n",
    "\n",
    "\n",
    "import predict\n",
    "\n",
    "ride = {\n",
    "    \"PULocationID\": 75,\n",
    "    \"DOLocationID\": 40,\n",
    "    \"trip_distance\": 5\n",
    "}\n",
    "\n",
    "time = predict.predict_from_dict(ride)\n",
    "\n",
    "if time is not None:\n",
    "    print(f\"Predicted duration: {time:.2f} minutes\")\n",
    "else:\n",
    "    print(\"Prediction failed.\")\n",
    "\n"
   ]
  },
  {
   "cell_type": "code",
   "execution_count": 27,
   "id": "de157b01-9e81-4033-9b6f-3d41c3e95970",
   "metadata": {},
   "outputs": [
    {
     "name": "stdout",
     "output_type": "stream",
     "text": [
      "[INFO] Preprocessor loaded successfully.\n",
      "[INFO] Model loaded successfully.\n",
      "Predicted duration: 18.37 minutes\n"
     ]
    }
   ],
   "source": [
    "!python test.py"
   ]
  },
  {
   "cell_type": "code",
   "execution_count": null,
   "id": "9266ec81-83e0-4da1-bad3-35734de35cb5",
   "metadata": {},
   "outputs": [],
   "source": []
  },
  {
   "cell_type": "markdown",
   "id": "bfff73c3-6464-4d28-a6ec-fd202c8f44f3",
   "metadata": {},
   "source": [
    "## CREATE THE FAST API APP"
   ]
  },
  {
   "cell_type": "code",
   "execution_count": 35,
   "id": "f74c4048-54b4-4097-b33e-eb533f68baa8",
   "metadata": {},
   "outputs": [],
   "source": [
    "import os\n",
    "os.makedirs(\"templates\",exist_ok=True )"
   ]
  },
  {
   "cell_type": "code",
   "execution_count": 37,
   "id": "86e70202-a3f7-4387-a043-94ddcacb7abe",
   "metadata": {},
   "outputs": [
    {
     "name": "stdout",
     "output_type": "stream",
     "text": [
      "Overwriting templates/predict_form.html\n"
     ]
    }
   ],
   "source": [
    "%%writefile templates/predict_form.html\n",
    "\n",
    "<!DOCTYPE html>\n",
    "<html>\n",
    "<head>\n",
    "    <title>Trip Duration Predictor</title>\n",
    "    <style>\n",
    "        body {\n",
    "            font-family: Arial, sans-serif;\n",
    "            background: #f4f6f9;\n",
    "            padding: 20px;\n",
    "        }\n",
    "        .container {\n",
    "            background: white;\n",
    "            padding: 30px;\n",
    "            border-radius: 12px;\n",
    "            max-width: 500px;\n",
    "            margin: auto;\n",
    "            box-shadow: 0 0 10px rgba(0,0,0,0.1);\n",
    "        }\n",
    "        input[type=\"number\"] {\n",
    "            width: 100%;\n",
    "            padding: 8px;\n",
    "            margin: 8px 0 20px;\n",
    "            border: 1px solid #ccc;\n",
    "            border-radius: 6px;\n",
    "        }\n",
    "        button {\n",
    "            background: #007BFF;\n",
    "            color: white;\n",
    "            border: none;\n",
    "            padding: 10px 20px;\n",
    "            border-radius: 6px;\n",
    "            cursor: pointer;\n",
    "        }\n",
    "        button:hover {\n",
    "            background: #0056b3;\n",
    "        }\n",
    "        .result {\n",
    "            margin-top: 20px;\n",
    "            background: #e6f7ff;\n",
    "            padding: 10px;\n",
    "            border-left: 4px solid #007BFF;\n",
    "        }\n",
    "    </style>\n",
    "</head>\n",
    "<body>\n",
    "    <div class=\"container\">\n",
    "        <h2>Trip Duration Predictor</h2>\n",
    "        <form method=\"post\">\n",
    "            <label>PULocationID:</label>\n",
    "            <input type=\"number\" name=\"PULocationID\" required>\n",
    "\n",
    "            <label>DOLocationID:</label>\n",
    "            <input type=\"number\" name=\"DOLocationID\" required>\n",
    "\n",
    "            <label>Trip Distance (miles):</label>\n",
    "            <input type=\"number\" step=\"0.01\" name=\"trip_distance\" required>\n",
    "\n",
    "            <button type=\"submit\">Predict Duration</button>\n",
    "        </form>\n",
    "\n",
    "        {% if result %}\n",
    "        <div class=\"result\">\n",
    "            <strong>Prediction:</strong> {{ result }} minutes\n",
    "        </div>\n",
    "        {% endif %}\n",
    "    </div>\n",
    "</body>\n",
    "</html>\n",
    "\n"
   ]
  },
  {
   "cell_type": "code",
   "execution_count": 38,
   "id": "5bef4aa8-85b5-4c3e-8c5e-609a19b43ed8",
   "metadata": {},
   "outputs": [
    {
     "name": "stdout",
     "output_type": "stream",
     "text": [
      "Overwriting main.py\n"
     ]
    }
   ],
   "source": [
    "%%writefile main.py\n",
    "\n",
    "\n",
    "from fastapi import FastAPI, HTTPException, Request, Form\n",
    "from fastapi.responses import HTMLResponse\n",
    "from fastapi.templating import Jinja2Templates\n",
    "from pydantic import BaseModel\n",
    "import joblib\n",
    "import pandas as pd\n",
    "from xgboost import XGBRegressor\n",
    "import uvicorn\n",
    "import logging\n",
    "import warnings\n",
    "from typing import List\n",
    "\n",
    "# Suppress category_encoders warning\n",
    "warnings.filterwarnings('ignore', category=FutureWarning, module='category_encoders')\n",
    "\n",
    "# Logging config\n",
    "logging.basicConfig(level=logging.INFO)\n",
    "logger = logging.getLogger(__name__)\n",
    "\n",
    "# Initialize FastAPI app\n",
    "app = FastAPI(\n",
    "    title=\"Trip Duration Prediction API\",\n",
    "    description=\"API and Web UI for predicting NYC taxi trip duration using XGBoost\",\n",
    "    version=\"1.0.0\"\n",
    ")\n",
    "\n",
    "# Templates setup\n",
    "templates = Jinja2Templates(directory=\"templates\")\n",
    "\n",
    "# Globals\n",
    "preprocessor = None\n",
    "model = None\n",
    "\n",
    "# Input schema\n",
    "class RideData(BaseModel):\n",
    "    PULocationID: int\n",
    "    DOLocationID: int\n",
    "    trip_distance: float\n",
    "\n",
    "    class Config:\n",
    "        schema_extra = {\n",
    "            \"example\": {\n",
    "                \"PULocationID\": 75,\n",
    "                \"DOLocationID\": 235,\n",
    "                \"trip_distance\": 5.93\n",
    "            }\n",
    "        }\n",
    "\n",
    "# Output schema\n",
    "class PredictionResponse(BaseModel):\n",
    "    predicted_duration: float\n",
    "    status: str\n",
    "    message: str\n",
    "\n",
    "# Load preprocessor\n",
    "def load_preprocessor(path: str):\n",
    "    try:\n",
    "        preprocessor = joblib.load(path)\n",
    "        logger.info(\"Preprocessor loaded.\")\n",
    "        return preprocessor\n",
    "    except Exception as e:\n",
    "        logger.error(f\"Error loading preprocessor: {e}\")\n",
    "        raise\n",
    "\n",
    "# Load model\n",
    "def load_model(path: str):\n",
    "    try:\n",
    "        model = XGBRegressor()\n",
    "        model.load_model(path)\n",
    "        logger.info(\"Model loaded.\")\n",
    "        return model\n",
    "    except Exception as e:\n",
    "        logger.error(f\"Error loading model: {e}\")\n",
    "        raise\n",
    "\n",
    "# Prediction logic\n",
    "def predict_duration(preprocessor, model, ride_df):\n",
    "    try:\n",
    "        X_processed = preprocessor.transform(ride_df)\n",
    "        prediction = model.predict(X_processed)\n",
    "        return float(prediction[0])\n",
    "    except Exception as e:\n",
    "        logger.error(f\"Prediction error: {e}\")\n",
    "        raise\n",
    "\n",
    "# Load on startup\n",
    "@app.on_event(\"startup\")\n",
    "async def startup_event():\n",
    "    global preprocessor, model\n",
    "    preprocessor = load_preprocessor(\"preprocessing.pkl\")\n",
    "    model = load_model(\"my_model.ubj\")\n",
    "\n",
    "# Health check\n",
    "@app.get(\"/\")\n",
    "async def root():\n",
    "    return {\"message\": \"Trip Duration Prediction API is running\"}\n",
    "\n",
    "@app.get(\"/health\")\n",
    "async def health_check():\n",
    "    return {\n",
    "        \"status\": \"healthy\",\n",
    "        \"preprocessor_loaded\": preprocessor is not None,\n",
    "        \"model_loaded\": model is not None\n",
    "    }\n",
    "\n",
    "# Single prediction\n",
    "@app.post(\"/predict\", response_model=PredictionResponse)\n",
    "async def predict(ride_data: RideData):\n",
    "    if preprocessor is None or model is None:\n",
    "        raise HTTPException(status_code=500, detail=\"Models not loaded.\")\n",
    "    try:\n",
    "        df = pd.DataFrame([ride_data.dict()])\n",
    "        duration = predict_duration(preprocessor, model, df)\n",
    "        return PredictionResponse(\n",
    "            predicted_duration=duration,\n",
    "            status=\"success\",\n",
    "            message=\"Prediction completed successfully\"\n",
    "        )\n",
    "    except Exception as e:\n",
    "        raise HTTPException(status_code=500, detail=f\"Prediction failed: {str(e)}\")\n",
    "\n",
    "# Batch prediction\n",
    "@app.post(\"/predict_batch\")\n",
    "async def predict_batch(rides: List[RideData]):\n",
    "    if preprocessor is None or model is None:\n",
    "        raise HTTPException(status_code=500, detail=\"Models not loaded.\")\n",
    "    try:\n",
    "        results = []\n",
    "        for ride in rides:\n",
    "            df = pd.DataFrame([ride.dict()])\n",
    "            duration = predict_duration(preprocessor, model, df)\n",
    "            results.append(duration)\n",
    "        return {\n",
    "            \"predictions\": results,\n",
    "            \"status\": \"success\",\n",
    "            \"message\": f\"Predicted durations for {len(rides)} rides\"\n",
    "        }\n",
    "    except Exception as e:\n",
    "        raise HTTPException(status_code=500, detail=f\"Batch prediction failed: {str(e)}\")\n",
    "\n",
    "# Web form GET\n",
    "@app.get(\"/form\", response_class=HTMLResponse)\n",
    "async def form_get(request: Request):\n",
    "    return templates.TemplateResponse(\"predict_form.html\", {\"request\": request, \"result\": None})\n",
    "\n",
    "# Web form POST\n",
    "@app.post(\"/form\", response_class=HTMLResponse)\n",
    "async def form_post(\n",
    "    request: Request,\n",
    "    PULocationID: int = Form(...),\n",
    "    DOLocationID: int = Form(...),\n",
    "    trip_distance: float = Form(...)\n",
    "):\n",
    "    try:\n",
    "        if preprocessor is None or model is None:\n",
    "            raise HTTPException(status_code=500, detail=\"Model not loaded.\")\n",
    "        df = pd.DataFrame([{\n",
    "            \"PULocationID\": PULocationID,\n",
    "            \"DOLocationID\": DOLocationID,\n",
    "            \"trip_distance\": trip_distance\n",
    "        }])\n",
    "        result = predict_duration(preprocessor, model, df)\n",
    "        return templates.TemplateResponse(\"predict_form.html\", {\n",
    "            \"request\": request,\n",
    "            \"result\": f\"{result:.2f}\"\n",
    "        })\n",
    "    except Exception as e:\n",
    "        logger.error(f\"Form prediction error: {e}\")\n",
    "        return templates.TemplateResponse(\"predict_form.html\", {\n",
    "            \"request\": request,\n",
    "            \"result\": \"Error during prediction\"\n",
    "        })\n",
    "\n",
    "# Run server\n",
    "if __name__ == \"__main__\":\n",
    "    uvicorn.run(\"main:app\", host=\"0.0.0.0\", port=9696, reload=True)\n"
   ]
  },
  {
   "cell_type": "code",
   "execution_count": 39,
   "id": "f40d9349-5694-4ab9-865f-0ab756182c74",
   "metadata": {},
   "outputs": [
    {
     "name": "stdout",
     "output_type": "stream",
     "text": [
      "\u001b[32mINFO\u001b[0m:     Will watch for changes in these directories: ['/Users/gabriel/Documents/Mlops_zoomcamp/02-Deployment/web-server']\n",
      "\u001b[32mINFO\u001b[0m:     Uvicorn running on \u001b[1mhttp://0.0.0.0:9696\u001b[0m (Press CTRL+C to quit)\n",
      "\u001b[32mINFO\u001b[0m:     Started reloader process [\u001b[36m\u001b[1m52699\u001b[0m] using \u001b[36m\u001b[1mStatReload\u001b[0m\n",
      "/opt/anaconda3/lib/python3.12/site-packages/pydantic/_internal/_config.py:373: UserWarning: Valid config keys have changed in V2:\n",
      "* 'schema_extra' has been renamed to 'json_schema_extra'\n",
      "  warnings.warn(message, UserWarning)\n",
      "\u001b[32mINFO\u001b[0m:     Started server process [\u001b[36m52701\u001b[0m]\n",
      "\u001b[32mINFO\u001b[0m:     Waiting for application startup.\n",
      "INFO:main:Preprocessor loaded.\n",
      "INFO:main:Model loaded.\n",
      "\u001b[32mINFO\u001b[0m:     Application startup complete.\n",
      "\u001b[32mINFO\u001b[0m:     127.0.0.1:58588 - \"\u001b[1mGET /docs HTTP/1.1\u001b[0m\" \u001b[32m200 OK\u001b[0m\n",
      "\u001b[32mINFO\u001b[0m:     127.0.0.1:58588 - \"\u001b[1mGET /openapi.json HTTP/1.1\u001b[0m\" \u001b[32m200 OK\u001b[0m\n",
      "\u001b[32mINFO\u001b[0m:     127.0.0.1:58591 - \"\u001b[1mGET /form HTTP/1.1\u001b[0m\" \u001b[32m200 OK\u001b[0m\n",
      "\u001b[32mINFO\u001b[0m:     127.0.0.1:58593 - \"\u001b[1mGET /apple-touch-icon-precomposed.png HTTP/1.1\u001b[0m\" \u001b[31m404 Not Found\u001b[0m\n",
      "\u001b[32mINFO\u001b[0m:     127.0.0.1:58594 - \"\u001b[1mGET /apple-touch-icon.png HTTP/1.1\u001b[0m\" \u001b[31m404 Not Found\u001b[0m\n",
      "\u001b[32mINFO\u001b[0m:     127.0.0.1:58595 - \"\u001b[1mGET /favicon.ico HTTP/1.1\u001b[0m\" \u001b[31m404 Not Found\u001b[0m\n",
      "\u001b[32mINFO\u001b[0m:     127.0.0.1:58600 - \"\u001b[1mPOST /form HTTP/1.1\u001b[0m\" \u001b[32m200 OK\u001b[0m\n",
      "^C\n",
      "\u001b[32mINFO\u001b[0m:     Shutting down\n",
      "\u001b[32mINFO\u001b[0m:     Waiting for application shutdown.\n",
      "\u001b[32mINFO\u001b[0m:     Application shutdown complete.\n",
      "\u001b[32mINFO\u001b[0m:     Finished server process [\u001b[36m52701\u001b[0m]\n",
      "\u001b[32mINFO\u001b[0m:     Stopping reloader process [\u001b[36m\u001b[1m52699\u001b[0m]\n"
     ]
    }
   ],
   "source": [
    "!uvicorn main:app --host 0.0.0.0 --port 9696 --reload\n",
    "#http://localhost:9696/docs\n",
    "#http://localhost:9696/form"
   ]
  },
  {
   "cell_type": "markdown",
   "id": "17756d05-83d8-48a0-a223-e91f42166c97",
   "metadata": {},
   "source": [
    "### DOCKER FILE"
   ]
  },
  {
   "cell_type": "code",
   "execution_count": 1,
   "id": "ec298726-7a0f-493e-a810-f9e89fc87cc2",
   "metadata": {},
   "outputs": [
    {
     "name": "stdout",
     "output_type": "stream",
     "text": [
      "Overwriting requirements.txt\n"
     ]
    }
   ],
   "source": [
    "%%writefile requirements.txt\n",
    "\n",
    "fastapi==0.115.12\n",
    "uvicorn==0.34.2\n",
    "pandas==2.2.2\n",
    "scikit-learn==1.5.1\n",
    "xgboost==3.0.1\n",
    "category-encoders==2.6.3\n",
    "jinja2==3.1.3\n",
    "joblib==1.4.2\n",
    "email-validator==2.1.1\n",
    "python-multipart\n"
   ]
  },
  {
   "cell_type": "code",
   "execution_count": 2,
   "id": "ddce37d3-fa8a-4d31-bafb-958e17fff813",
   "metadata": {},
   "outputs": [
    {
     "name": "stdout",
     "output_type": "stream",
     "text": [
      "Overwriting Dockerfile\n"
     ]
    }
   ],
   "source": [
    "%%writefile Dockerfile\n",
    "\n",
    "##base image\n",
    "FROM python:3.12-slim\n",
    "\n",
    "\n",
    "# Set working directory\n",
    "WORKDIR /app\n",
    "\n",
    "# Copy files,model and preprocessor\n",
    "COPY . /app\n",
    "\n",
    "#Install dependencies\n",
    "RUN pip install --upgrade pip \\\n",
    "    && pip install --no-cache-dir -r requirements.txt\n",
    "\n",
    "\n",
    "# Expose port\n",
    "EXPOSE 9696\n",
    "\n",
    "# Run the app\n",
    "\n",
    "ENTRYPOINT [\"uvicorn\", \"main:app\", \"--host=0.0.0.0\", \"--port=9696\"]\n",
    "\n"
   ]
  },
  {
   "cell_type": "code",
   "execution_count": null,
   "id": "a5509dda-e05c-4160-b10c-7b74a0745ade",
   "metadata": {},
   "outputs": [],
   "source": []
  }
 ],
 "metadata": {
  "kernelspec": {
   "display_name": "Python 3 (ipykernel)",
   "language": "python",
   "name": "python3"
  },
  "language_info": {
   "codemirror_mode": {
    "name": "ipython",
    "version": 3
   },
   "file_extension": ".py",
   "mimetype": "text/x-python",
   "name": "python",
   "nbconvert_exporter": "python",
   "pygments_lexer": "ipython3",
   "version": "3.12.7"
  }
 },
 "nbformat": 4,
 "nbformat_minor": 5
}
