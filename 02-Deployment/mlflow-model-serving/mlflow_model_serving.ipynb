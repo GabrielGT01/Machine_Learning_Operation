{
 "cells": [
  {
   "cell_type": "markdown",
   "id": "b17ce73f-67da-40cb-8488-ae58f9d7aa19",
   "metadata": {},
   "source": [
    "### MLflow model or artifact can be downloaded by\n",
    "- client = MlflowClient(tracking_uri=MLFLOW_TRACKING_URI)\n",
    "- mlflow.artifacts.download_artifacts()\n",
    "\n",
    "*run id and artifact path are gotten from the 01 intro modelling notebook details*\n",
    "\n",
    "\n",
    "\n",
    "\n",
    "\n",
    "import mlflow\n",
    "import mlflow.xgboost\n",
    "\n",
    "# Set tracking URI\n",
    "mlflow.set_tracking_uri(\"http://127.0.0.1:5000\")\n",
    "\n",
    "# Method 1: Load directly from model URI (EASIEST)\n",
    "model_uri = \"models:/nyc-taxi-duration-model-January/latest\"  # or specific version like \"/1\"\n",
    "model = mlflow.xgboost.load_model(model_uri)\n",
    "print(\"Method 1 - Model loaded from registry:\", type(model))\n",
    "\n",
    "# Method 2: Load from specific run ID\n",
    "run_id = \"c2cbe18632664c65b30f263292544ade\"  # Your run ID\n",
    "model_uri = f\"runs:/{run_id}/nyc-duration-model\"\n",
    "model = mlflow.xgboost.load_model(model_uri)\n",
    "print(\"Method 2 - Model loaded from run:\", type(model))\n",
    "\n",
    "# Method 3: Download artifacts first, then load (your current approach - FIXED)\n",
    "dst = mlflow.artifacts.download_artifacts(\n",
    "    artifact_uri=\"mlflow-artifacts:/3/models/m-f7fa83f11f764032b16af5490676a2b1/artifacts\"\n",
    ")\n",
    "model = mlflow.xgboost.load_model(dst)  # ✅ Use mlflow.xgboost.load_model\n",
    "print(\"Method 3 - Model loaded from downloaded artifacts:\", type(model))\n",
    "\n",
    "# Method 4: Load with Python function flavor (universal but less optimal)\n",
    "model_pyfunc = mlflow.pyfunc.load_model(dst)\n",
    "print(\"Method 4 - Model loaded as PyFunc:\", type(model_pyfunc))\n",
    "\n",
    "# Method 5: Complete example with error handling\n",
    "def load_xgboost_model_safely(model_name: str, version: str = \"latest\"):\n",
    "    \"\"\"Safely load XGBoost model from MLflow registry\"\"\"\n",
    "    try:\n",
    "        model_uri = f\"models:/{model_name}/{version}\"\n",
    "        model = mlflow.xgboost.load_model(model_uri)\n",
    "        print(f\"✅ Successfully loaded {model_name} version {version}\")\n",
    "        return model\n",
    "    except Exception as e:\n",
    "        print(f\"❌ Error loading model: {e}\")\n",
    "        return None"
   ]
  },
  {
   "cell_type": "code",
   "execution_count": 1,
   "id": "ae70066a-5234-4c4b-acb4-c37c2f1bd076",
   "metadata": {},
   "outputs": [],
   "source": [
    "import joblib\n",
    "import pandas as pd\n",
    "from mlflow.tracking import MlflowClient\n",
    "\n",
    "\n",
    "import mlflow\n",
    "mlflow.set_tracking_uri(\"http://127.0.0.1:5000\")\n"
   ]
  },
  {
   "cell_type": "code",
   "execution_count": 2,
   "id": "5e23eea6-01f8-4736-9b88-7da383ce268a",
   "metadata": {},
   "outputs": [],
   "source": [
    "MLFLOW_TRACKING_URI = 'http://127.0.0.1:5000'\n",
    "RUN_ID = '4073f16458d44ecb8602bb8040aff8ed'\n",
    "artifact_path = \"preprocessor/preprocessing.pkl\"\n",
    "\n",
    "client = MlflowClient(tracking_uri=MLFLOW_TRACKING_URI)"
   ]
  },
  {
   "cell_type": "code",
   "execution_count": 3,
   "id": "6f13841e-8678-4a25-b61a-ad9e7f1da4eb",
   "metadata": {},
   "outputs": [
    {
     "data": {
      "application/vnd.jupyter.widget-view+json": {
       "model_id": "7c953fa9a9c445f0b427bce1612f46fc",
       "version_major": 2,
       "version_minor": 0
      },
      "text/plain": [
       "Downloading artifacts:   0%|          | 0/1 [00:00<?, ?it/s]"
      ]
     },
     "metadata": {},
     "output_type": "display_data"
    },
    {
     "name": "stdout",
     "output_type": "stream",
     "text": [
      "File downloaded to: /var/folders/pk/nk0t185511z8g6hmxr_bhkfw0000gn/T/tmp5vlsonta/preprocessing.pkl\n"
     ]
    },
    {
     "data": {
      "text/plain": [
       "array([[ 1.71015764, -0.277915  ,  0.82854128,  0.96872232, 12.75550494,\n",
       "        12.75550494]])"
      ]
     },
     "execution_count": 3,
     "metadata": {},
     "output_type": "execute_result"
    }
   ],
   "source": [
    "# Download artifact path\n",
    "client = MlflowClient(tracking_uri=MLFLOW_TRACKING_URI)\n",
    "RUN_ID = \"4073f16458d44ecb8602bb8040aff8ed\"\n",
    "artifact_path = \"preprocessor/preprocessing.pkl\"\n",
    "\n",
    "# Step 1: Download the preprocessor file (returns local path as string)\n",
    "preprocessor_path = client.download_artifacts(run_id=RUN_ID, path=artifact_path)\n",
    "print(f\"File downloaded to: {preprocessor_path}\")\n",
    "\n",
    "# Step 2: Load the actual preprocessor object\n",
    "preprocessor = joblib.load(preprocessor_path)\n",
    "\n",
    "# Step 3: Transform new input data\n",
    "df = pd.DataFrame([{\n",
    "    \"passenger_count\":1.0,\n",
    "    \"trip_distance\": 5.93,\n",
    "    \"fare_amount\":24.70,\n",
    "    \"total_amount\":34.00,\n",
    "    \"PULocationID\": 75,\n",
    "    \"DOLocationID\": 235,\n",
    "    \n",
    "}])\n",
    "\n",
    "X_processed = preprocessor.transform(df)\n",
    "X_processed\n"
   ]
  },
  {
   "cell_type": "code",
   "execution_count": 4,
   "id": "85432387-0cdf-4a31-a5ba-c5a09e8a9336",
   "metadata": {},
   "outputs": [
    {
     "data": {
      "application/vnd.jupyter.widget-view+json": {
       "model_id": "f9441e6319b14f4086c1e04172e5f97e",
       "version_major": 2,
       "version_minor": 0
      },
      "text/plain": [
       "Downloading artifacts:   0%|          | 0/7 [00:00<?, ?it/s]"
      ]
     },
     "metadata": {},
     "output_type": "display_data"
    },
    {
     "name": "stdout",
     "output_type": "stream",
     "text": [
      "14.025499999999997\n"
     ]
    }
   ],
   "source": [
    "##directly load from mlflow\n",
    "\n",
    "model = mlflow.sklearn.load_model(\"models:/XGBoostdurationModel/1\")  # version 1\n",
    "# Step 3: Use the model for prediction\n",
    "feature = model.predict(X_processed)\n",
    "print(feature[0])"
   ]
  },
  {
   "cell_type": "code",
   "execution_count": 4,
   "id": "c58aae33-827a-48f7-bf5c-aa54105ac559",
   "metadata": {},
   "outputs": [
    {
     "data": {
      "application/vnd.jupyter.widget-view+json": {
       "model_id": "34a1e3bd1d2a4a14a25be8a718d46d73",
       "version_major": 2,
       "version_minor": 0
      },
      "text/plain": [
       "Downloading artifacts:   0%|          | 0/7 [00:00<?, ?it/s]"
      ]
     },
     "metadata": {},
     "output_type": "display_data"
    },
    {
     "name": "stdout",
     "output_type": "stream",
     "text": [
      "Downloaded: /var/folders/pk/nk0t185511z8g6hmxr_bhkfw0000gn/T/tmpulk8odxt/artifacts ['python_env.yaml', 'requirements.txt', 'MLmodel', 'serving_input_example.json', 'model.ubj', 'input_example.json', 'conda.yaml']\n",
      "Model loaded from downloaded artifacts: <class 'xgboost.sklearn.XGBRegressor'>\n"
     ]
    }
   ],
   "source": [
    "##download the model directly \n",
    "\n",
    "import  os\n",
    "import mlflow.xgboost\n",
    "mlflow.set_tracking_uri(\"http://127.0.0.1:5000\")\n",
    "\n",
    "dst = mlflow.artifacts.download_artifacts(\n",
    "    artifact_uri=\"mlflow-artifacts:/3/models/m-f7fa83f11f764032b16af5490676a2b1/artifacts\"\n",
    ")\n",
    "\n",
    "print(\"Downloaded:\", dst, os.listdir(dst))\n",
    "\n",
    "model = mlflow.xgboost.load_model(dst)  # ✅ Use mlflow.xgboost.load_model\n",
    "print(\"Model loaded from downloaded artifacts:\", type(model))\n"
   ]
  },
  {
   "cell_type": "markdown",
   "id": "d6b18a77-0b50-480b-8771-04ddae08da31",
   "metadata": {},
   "source": [
    "### MAKE IT A SCRIPT"
   ]
  },
  {
   "cell_type": "code",
   "execution_count": 6,
   "id": "1bb1f0b1-f1ef-4d39-8d25-d782a0dedd6f",
   "metadata": {},
   "outputs": [
    {
     "name": "stdout",
     "output_type": "stream",
     "text": [
      "Overwriting predict.py\n"
     ]
    }
   ],
   "source": [
    "%%writefile predict.py\n",
    "import os\n",
    "import joblib\n",
    "import pandas as pd\n",
    "\n",
    "# ======== LOCAL PATHS () ========\n",
    "PREPROCESSOR_PATH = \"/var/folders/pk/nk0t185511z8g6hmxr_bhkfw0000gn/T/tmp5vlsonta/preprocessing.pkl\"\n",
    "MODEL_DIR = \"/var/folders/pk/nk0t185511z8g6hmxr_bhkfw0000gn/T/tmpulk8odxt/artifacts\"  # contains MLmodel, model.pkl, etc.\n",
    "# =============================================================================\n",
    "\n",
    "def load_preprocessor_local(preprocessor_path: str):\n",
    "    try:\n",
    "        if not os.path.isfile(preprocessor_path):\n",
    "            raise FileNotFoundError(f\"Preprocessor not found at: {preprocessor_path}\")\n",
    "        preprocessor = joblib.load(preprocessor_path)\n",
    "        print(\"[INFO] Preprocessor loaded successfully.\")\n",
    "        return preprocessor\n",
    "    except Exception as e:\n",
    "        print(f\"[ERROR] Failed to load preprocessor: {e}\")\n",
    "        raise\n",
    "\n",
    "def load_model_local(model_dir: str):\n",
    "    try:\n",
    "        if not os.path.isdir(model_dir):\n",
    "            raise FileNotFoundError(f\"Model directory not found: {model_dir}\")\n",
    "        model = mlflow.xgboost.load_model(dst)    \n",
    "        print(f\"[INFO] Model loaded successfully:\")\n",
    "        return model\n",
    "    except Exception as e:\n",
    "        print(f\"[ERROR] Failed to load model: {e}\")\n",
    "        raise\n",
    "\n",
    "def predict_duration(preprocessor, model, ride_df: pd.DataFrame) -> float:\n",
    "    \"\"\"\n",
    "    Transform the raw input using the preprocessor and predict duration with the model.\n",
    "    \"\"\"\n",
    "    X_processed = preprocessor.transform(ride_df)\n",
    "    y_pred = model.predict(X_processed)\n",
    "    return float(y_pred[0])\n",
    "\n",
    "def predict_from_dict(ride: dict):\n",
    "    \"\"\"\n",
    "    Convenience wrapper: build a DataFrame from dict, transform, and predict.\n",
    "    \"\"\"\n",
    "    df = pd.DataFrame([ride])\n",
    "    preprocessor = load_preprocessor_local(PREPROCESSOR_PATH)\n",
    "    model = load_model_local(MODEL_DIR)\n",
    "    return predict_duration(preprocessor, model, df)\n",
    "\n",
    "if __name__ == \"__main__\":\n",
    "    # Example input (edit as needed)\n",
    "    sample_ride = {\n",
    "        \"passenger_count\": 1.0,\n",
    "        \"trip_distance\": 5.93,\n",
    "        \"fare_amount\": 24.70,\n",
    "        \"total_amount\": 34.00,\n",
    "        \"PULocationID\": 75,\n",
    "        \"DOLocationID\": 235,\n",
    "    }\n",
    "\n",
    "    try:\n",
    "        pred = predict_from_dict(sample_ride)\n",
    "        print(f\"[RESULT] Predicted trip duration: {pred:.2f} minutes\")\n",
    "    except Exception as e:\n",
    "        print(f\"[FAILED] Prediction pipeline could not complete: {e}\")\n"
   ]
  },
  {
   "cell_type": "code",
   "execution_count": 7,
   "id": "0a4955cd-7147-4427-bd60-4b9e83b319ca",
   "metadata": {},
   "outputs": [
    {
     "name": "stdout",
     "output_type": "stream",
     "text": [
      "Overwriting test.py\n"
     ]
    }
   ],
   "source": [
    "%%writefile test.py\n",
    "import predict\n",
    "\n",
    "ride = {\n",
    "    \"passenger_count\": 1.0,\n",
    "    \"trip_distance\": 5.93,\n",
    "    \"fare_amount\": 24.70,\n",
    "    \"total_amount\": 34.00,\n",
    "    \"PULocationID\": 75,\n",
    "    \"DOLocationID\": 235,\n",
    "}\n",
    "\n",
    "time = predict.predict_from_dict(ride)\n",
    "\n",
    "if time is not None:\n",
    "    print(f\"Predicted duration: {time:.2f} minutes\")\n",
    "else:\n",
    "    print(\"Prediction failed.\")\n"
   ]
  },
  {
   "cell_type": "code",
   "execution_count": 8,
   "id": "0b09a2fe-3796-4949-a37c-97e39fef0a85",
   "metadata": {},
   "outputs": [
    {
     "name": "stdout",
     "output_type": "stream",
     "text": [
      "[INFO] Preprocessor loaded successfully.\n",
      "[INFO] Model loaded successfully:\n",
      "Predicted duration: 14.03 minutes\n"
     ]
    }
   ],
   "source": [
    "!python test.py"
   ]
  },
  {
   "cell_type": "code",
   "execution_count": null,
   "id": "c00583c8-efae-4b50-944b-7d0c6c964141",
   "metadata": {},
   "outputs": [],
   "source": []
  },
  {
   "cell_type": "code",
   "execution_count": null,
   "id": "28178c9a-9892-4339-b3d2-c4a2c2b1f725",
   "metadata": {},
   "outputs": [],
   "source": []
  }
 ],
 "metadata": {
  "kernelspec": {
   "display_name": "Python 3 (ipykernel)",
   "language": "python",
   "name": "python3"
  },
  "language_info": {
   "codemirror_mode": {
    "name": "ipython",
    "version": 3
   },
   "file_extension": ".py",
   "mimetype": "text/x-python",
   "name": "python",
   "nbconvert_exporter": "python",
   "pygments_lexer": "ipython3",
   "version": "3.12.7"
  }
 },
 "nbformat": 4,
 "nbformat_minor": 5
}
